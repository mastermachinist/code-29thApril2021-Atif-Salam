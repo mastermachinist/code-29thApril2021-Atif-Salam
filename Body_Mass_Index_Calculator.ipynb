{
  "nbformat": 4,
  "nbformat_minor": 0,
  "metadata": {
    "colab": {
      "name": "Body Mass Index Calculator.ipynb",
      "provenance": [],
      "collapsed_sections": []
    },
    "kernelspec": {
      "name": "python3",
      "display_name": "Python 3"
    },
    "language_info": {
      "name": "python"
    }
  },
  "cells": [
    {
      "cell_type": "markdown",
      "metadata": {
        "id": "FWwAQaZCZTYF"
      },
      "source": [
        ""
      ]
    },
    {
      "cell_type": "markdown",
      "metadata": {
        "id": "yMYBKGgwZVe2"
      },
      "source": [
        "## **Body Mass Index**\n",
        "\n",
        "\n",
        "\n",
        "We are going to create BMI calculator both in Metrics as well as in Imperial unit."
      ]
    },
    {
      "cell_type": "code",
      "metadata": {
        "id": "OSvFL2HQXWUw"
      },
      "source": [
        "#This calculates Body Mass Index using Metrics standard\n",
        "def bmi_metrics():\n",
        "        gender =   input(\"Please enter your Gender : \")\n",
        "        mass = float(input(\"enter your mass in kilogram (KG) : \" ))\n",
        "        height = float(input(\"enter your height in metres(M) : \" ))\n",
        "        bmi = mass * (height**2)\n",
        "        print(\"your body mass index = \".capitalize(), bmi, \" kg/m2\")\n",
        "    \n",
        "        if bmi <= 18.4 :\n",
        "            print(\"you are underweight and are at malnutrition risk\".capitalize())\n",
        "            bmi_calculator()\n",
        "    \n",
        "        elif bmi >= 18.5 and bmi <= 24.9:\n",
        "            print(\"you have a normal weight and are at low risk\".upper())\n",
        "            bmi_calculator()\n",
        "    \n",
        "        elif bmi >= 25 and bmi <= 29.9:\n",
        "            print(\"you are overweight and are at enhanced risk\".upper())\n",
        "            bmi_calculator()\n",
        "\n",
        "        elif bmi >= 30 and bmi <= 34.9:\n",
        "            print(\"you are moderately obese and are at medium risk\".upper())\n",
        "            bmi_calculator()\n",
        "\n",
        "        elif bmi >= 35 and bmi <= 39.9:\n",
        "            print(\"you are severely obese and are at high risk\".upper())\n",
        "            bmi_calculator() \n",
        "\n",
        "        elif bmi > 40:\n",
        "            print(\"you are very severely obese and are at very high risk\".upper())\n",
        "            bmi_calculator()             \n",
        "    \n",
        "        else: \n",
        "            print(\"you have obesity and needs quick medical attention\".upper())\n",
        "            response = input(\"Do you wish to continue? type Y for (yes) or N for (no): \")\n",
        "            if response == \"y\" or response == \"Y\":\n",
        "                bmi_calculator()\n",
        "            elif response == \"n\" or response == \"N\":\n",
        "                print(\" Thanks for using this program \")\n",
        "                exit()"
      ],
      "execution_count": 29,
      "outputs": []
    },
    {
      "cell_type": "code",
      "metadata": {
        "id": "xwHUO0BfZgBs"
      },
      "source": [
        "\n",
        "    # This calculates Body Mass Index using Imperial standard\n",
        "def bmi_imperial():\n",
        "    gender =   input(\"Please enter your Gender : \")\n",
        "    Kilogram = float(input(\"enter your mass in kilogram (kg) : \"))# unit conversion of mass\n",
        "    Meters = float(input(\"enter your height in metres(m) : \" ))#unit conversion of height\n",
        "    mass = Kilogram * 2.2  # covert kg to pounds\n",
        "    height =Meters / 0.0254 # convert meters to inches\n",
        "    bmi = (mass * 703)/(height**2)\n",
        "    print(\"your mass in pounds = \", mass, \"lbs\")\n",
        "    print(\"your height in inches = \", height, \"inches\")\n",
        "    print(\"your body mass index = \".capitalize() , bmi, \"lbs/inches2\")\n",
        "\n",
        "\n",
        "    if bmi <= 18.4 :\n",
        "            print(\"you are underweight and are at malnutrition risk\".capitalize())\n",
        "            bmi_calculator()\n",
        "    \n",
        "    elif bmi >= 18.5 and bmi <= 24.9:\n",
        "            print(\"you have a normal weight and are at low risk\".capitalize())\n",
        "            bmi_calculator()\n",
        "    \n",
        "    elif bmi >= 25 and bmi <= 29.9:\n",
        "            print(\"you are overweight and are at enhanced risk\".capitalize())\n",
        "            bmi_calculator()\n",
        "\n",
        "    elif bmi >= 30 and bmi <= 34.9:\n",
        "            print(\"you are moderately obese and are at medium risk\".capitalize())\n",
        "            bmi_calculator()\n",
        "\n",
        "    elif bmi >= 35 and bmi <= 39.9:\n",
        "            print(\"you are severely obese and are at high risk\".capitalize())\n",
        "            bmi_calculator() \n",
        "\n",
        "    elif bmi > 40:\n",
        "            print(\"you are very severely obese and are at very high risk\".capitalize())\n",
        "            bmi_calculator()             \n",
        "    \n",
        "    else:   \n",
        "         print(\"you have obesity and needs quick medical attention\".capitalize())\n",
        "         response = input(\"Do you wish to continue? type Y for (yes) or N for (no): \")\n",
        "         if response == \"y\" or response == \"Y\":\n",
        "            bmi_calculator()\n",
        "         elif response == \"n\" or response == \"N\":\n",
        "            print(\" Thanks for using this program \")\n",
        "            exit()"
      ],
      "execution_count": 39,
      "outputs": []
    },
    {
      "cell_type": "code",
      "metadata": {
        "id": "e7BLDDj1Y6Wx"
      },
      "source": [
        " # This is the main and it computes the BMI with either standard based on user response\n",
        "def bmi_calculator():\n",
        "    print(\"\"\"\n",
        "    ******************************************************************\n",
        "            Welcome to Body Mass Index Calculator (BMI(kg/m) = Mass(kg)/Height(m)**2)\n",
        "    ******************************************************************\n",
        "    \"\"\")\n",
        "\n",
        "    #Ask if user would like to use Metric or Imperial units\n",
        "    response = input(\"would you like to calculate your Body Mass Index in Metrics or Imperial, type Metrics or Imperial: \").lower()\n",
        "    \n",
        "    if response == 'metrics':\n",
        "        print(\"---------you have chosen to compute your BMI in---------\", response.upper())\n",
        "        bmi_metrics() # This calls and computes the metrics standard function\n",
        "\n",
        "    elif response == 'imperial':\n",
        "        print(\"---------you have chosen to compute your BMI in---------\", response.upper())\n",
        "        return bmi_imperial() # This calls and computes the imperial standard function\n",
        "\n",
        "    else:\n",
        "        print(\"invalid response please try again\".capitalize())\n",
        "        bmi_calculator()\n",
        "\n",
        "    bmi_calculator()"
      ],
      "execution_count": 40,
      "outputs": []
    },
    {
      "cell_type": "code",
      "metadata": {
        "colab": {
          "base_uri": "https://localhost:8080/"
        },
        "id": "QOj_cCFRejwm",
        "outputId": "b999604e-814f-49a5-a44b-27e15fdd0c9e"
      },
      "source": [
        "  bmi_calculator()"
      ],
      "execution_count": null,
      "outputs": [
        {
          "output_type": "stream",
          "text": [
            "\n",
            "   ******************************************************************\n",
            "           Welcome to Body Mass Index Calculator (BMI(kg/m) = Mass(kg)/Height(m)**2)\n",
            "   ******************************************************************\n",
            "   \n",
            "would you like to calculate your Body Mass Index in Metrics or Imperial, type Metrics or Imperial: Imperial\n",
            "---------you have chosen to compute your BMI in--------- IMPERIAL\n",
            "Please enter your Gender : Male\n",
            "enter your mass in kilogram (kg) : 45\n",
            "enter your height in metres(m) : 145\n",
            "your mass in pounds =  99.00000000000001 lbs\n",
            "your height in inches =  5708.6614173228345 inches\n",
            "Your body mass index =  0.0021356100128418556 lbs/inches2\n",
            "You are underweight and are at malnutrition risk\n",
            "\n",
            "   ******************************************************************\n",
            "           Welcome to Body Mass Index Calculator (BMI(kg/m) = Mass(kg)/Height(m)**2)\n",
            "   ******************************************************************\n",
            "   \n",
            "would you like to calculate your Body Mass Index in Metrics or Imperial, type Metrics or Imperial: Imperial\n",
            "---------you have chosen to compute your BMI in--------- IMPERIAL\n",
            "Please enter your Gender : Female\n",
            "enter your mass in kilogram (kg) : 45\n",
            "enter your height in metres(m) : 200\n",
            "your mass in pounds =  99.00000000000001 lbs\n",
            "your height in inches =  7874.0157480314965 inches\n",
            "Your body mass index =  0.001122530013 lbs/inches2\n",
            "You are underweight and are at malnutrition risk\n",
            "\n",
            "   ******************************************************************\n",
            "           Welcome to Body Mass Index Calculator (BMI(kg/m) = Mass(kg)/Height(m)**2)\n",
            "   ******************************************************************\n",
            "   \n"
          ],
          "name": "stdout"
        }
      ]
    },
    {
      "cell_type": "code",
      "metadata": {
        "id": "m_i2eaD6qMwP"
      },
      "source": [
        "Imperial"
      ],
      "execution_count": null,
      "outputs": []
    }
  ]
}
